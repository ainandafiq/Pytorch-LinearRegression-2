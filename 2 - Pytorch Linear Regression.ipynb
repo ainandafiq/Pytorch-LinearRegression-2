{
 "cells": [
  {
   "cell_type": "code",
   "execution_count": 1,
   "id": "d1694f8c",
   "metadata": {},
   "outputs": [],
   "source": [
    "import numpy as np\n",
    "import torch"
   ]
  },
  {
   "cell_type": "code",
   "execution_count": 10,
   "id": "796c91ef",
   "metadata": {},
   "outputs": [],
   "source": [
    "# fitur per kolom : (temp, rainfall, humidity)\n",
    "inputs = np.array([[73, 67, 43],\n",
    "                 [91, 88, 64],\n",
    "                 [87, 134, 58],\n",
    "                 [102, 43, 37],\n",
    "                 [69, 96, 70]], dtype='float32')\n",
    "\n",
    "# Target : (apel, jeruk)\n",
    "targets = np.array([[56, 70],\n",
    "                 [81, 101],\n",
    "                 [119, 133],\n",
    "                 [22, 37],\n",
    "                 [103, 119]], dtype='float32')"
   ]
  },
  {
   "cell_type": "markdown",
   "id": "9e3a0106",
   "metadata": {},
   "source": [
    "Fitur dan target harus dipisah, karena cara pengolahannya berbeda.\n",
    "Disini pakai numpy, karena untuk mentraining data, biasanya pakai numpy"
   ]
  },
  {
   "cell_type": "code",
   "execution_count": 11,
   "id": "26e9794c",
   "metadata": {},
   "outputs": [
    {
     "name": "stdout",
     "output_type": "stream",
     "text": [
      "tensor([[ 73.,  67.,  43.],\n",
      "        [ 91.,  88.,  64.],\n",
      "        [ 87., 134.,  58.],\n",
      "        [102.,  43.,  37.],\n",
      "        [ 69.,  96.,  70.]])\n",
      "tensor([[ 56.,  70.],\n",
      "        [ 81., 101.],\n",
      "        [119., 133.],\n",
      "        [ 22.,  37.],\n",
      "        [103., 119.]])\n"
     ]
    }
   ],
   "source": [
    "inputs = torch.from_numpy(inputs)\n",
    "targets = torch.from_numpy(targets)\n",
    "print(inputs)\n",
    "print(targets)"
   ]
  },
  {
   "cell_type": "markdown",
   "id": "5cafdd8e",
   "metadata": {},
   "source": [
    "selanjutnya untuk menentukan weight dan bias untuk model linear regression, pakai angka random dulu.\n",
    " w dan b memiliki bentuk seperti matrix. jumlah kolom w mengikuti jumlah fitur, jumlah kolom b mengikuti jumlah kelas. Matrix w nantinya akan di tranpose dan dikalikan dengan matrix fitur/input"
   ]
  },
  {
   "cell_type": "code",
   "execution_count": 12,
   "id": "5dd9628a",
   "metadata": {},
   "outputs": [
    {
     "name": "stdout",
     "output_type": "stream",
     "text": [
      "tensor([[-0.5898,  1.5420, -1.3222],\n",
      "        [-0.6676,  0.0367,  1.6924]], requires_grad=True)\n",
      "tensor([-0.9665, -0.2799], requires_grad=True)\n"
     ]
    }
   ],
   "source": [
    "#weight dan bias\n",
    "w = torch.randn(2,3, requires_grad=True)\n",
    "b = torch.randn(2, requires_grad=True)\n",
    "print(w)\n",
    "print(b)"
   ]
  },
  {
   "cell_type": "code",
   "execution_count": 14,
   "id": "296d7afa",
   "metadata": {},
   "outputs": [],
   "source": [
    "def model(x) :\n",
    "    return x @ w.t()+b"
   ]
  },
  {
   "cell_type": "markdown",
   "id": "d45b62f7",
   "metadata": {},
   "source": [
    "x adalah input, @ berarti perkalian matrix yang sesuai, t berarti tranpose"
   ]
  },
  {
   "cell_type": "code",
   "execution_count": 15,
   "id": "a3c6add9",
   "metadata": {},
   "outputs": [
    {
     "name": "stdout",
     "output_type": "stream",
     "text": [
      "tensor([[  2.4356,  26.2235],\n",
      "        [ -3.5658,  50.5199],\n",
      "        [ 77.6606,  44.7256],\n",
      "        [-43.7448,  -4.1727],\n",
      "        [ 13.8132,  75.6552]], grad_fn=<AddBackward0>)\n"
     ]
    }
   ],
   "source": [
    "# cara membuat prediksi pakai linear regression\n",
    "preds = model(inputs)\n",
    "print(preds)"
   ]
  },
  {
   "cell_type": "code",
   "execution_count": 16,
   "id": "c64cbe2b",
   "metadata": {},
   "outputs": [
    {
     "name": "stdout",
     "output_type": "stream",
     "text": [
      "tensor([[ 56.,  70.],\n",
      "        [ 81., 101.],\n",
      "        [119., 133.],\n",
      "        [ 22.,  37.],\n",
      "        [103., 119.]])\n"
     ]
    }
   ],
   "source": [
    "# bandingkan dengan target yang asli\n",
    "print(targets)"
   ]
  },
  {
   "cell_type": "markdown",
   "id": "09aa2f37",
   "metadata": {},
   "source": [
    "ada selisih yang sangat signifikan terhadap prediksi dan aktualnya. Ini dikarenakan diawal, menentukan w dan b secara random.\n",
    "Percobaan pertama memang tidak selalu berhasil"
   ]
  },
  {
   "cell_type": "markdown",
   "id": "67296f71",
   "metadata": {},
   "source": [
    "## Loss Function\n",
    "Sebelum memperbaiki model yang buruk tadi, ada namanya Loss Function. \n",
    "Loss Function adalah perbandingan hasil prediksi dengan target aktual. \n",
    "Hal ini berfungsi untuk menguji performa model yang digunakan.\n",
    "Biasanya digunakan Mean Squared Error (MSE) sebagai nilai performa.\n",
    "Rumus MSE = jumlah elemen data (selisih tiap elemen^2)/jumlah data"
   ]
  },
  {
   "cell_type": "code",
   "execution_count": 18,
   "id": "20d72321",
   "metadata": {},
   "outputs": [],
   "source": [
    "# MSE LOSS\n",
    "def mse(t1,t2) :\n",
    "    diff = t1-t2\n",
    "    return torch.sum(diff*diff)/diff.numel()"
   ]
  },
  {
   "cell_type": "code",
   "execution_count": 28,
   "id": "5d83ace9",
   "metadata": {},
   "outputs": [
    {
     "name": "stdout",
     "output_type": "stream",
     "text": [
      "tensor(3983.7097, grad_fn=<DivBackward0>)\n"
     ]
    }
   ],
   "source": [
    "# hitung loss\n",
    "loss = mse(preds, targets)\n",
    "print(loss)"
   ]
  },
  {
   "cell_type": "markdown",
   "id": "3365a823",
   "metadata": {},
   "source": [
    "cara bacanya gmn?\n",
    "caranya adalah hasil perhitungannya di akar kuadrat. lalu akan muncul sebuah angka\n",
    "angka tersebut dibandingkan dengan range target aktual.\n",
    " Hasil sqrt dari 3983 adalah 63. sedangkan range target aktual adalah 20-150"
   ]
  },
  {
   "cell_type": "markdown",
   "id": "62313f1f",
   "metadata": {},
   "source": [
    "## Hitung gradient\n",
    "Kalau pakai pytorch, bisa otomatis menghitung gradient atau turunan dari loss w.r.t hingga bisa dapat weight dan bias. Asalkan di set requires_grad = True."
   ]
  },
  {
   "cell_type": "code",
   "execution_count": null,
   "id": "3e058dc8",
   "metadata": {},
   "outputs": [],
   "source": [
    "# hitung turunan\n",
    "loss.backward()"
   ]
  },
  {
   "cell_type": "code",
   "execution_count": 24,
   "id": "f3c96fa7",
   "metadata": {},
   "outputs": [
    {
     "name": "stdout",
     "output_type": "stream",
     "text": [
      "tensor([[-0.5898,  1.5420, -1.3222],\n",
      "        [-0.6676,  0.0367,  1.6924]], requires_grad=True)\n",
      "tensor([[-5612.4170, -5591.8115, -3757.7612],\n",
      "        [-4531.9297, -5027.1133, -2958.1106]])\n"
     ]
    }
   ],
   "source": [
    "# gradient dari weight\n",
    "print(w)\n",
    "print(w.grad)"
   ]
  },
  {
   "cell_type": "code",
   "execution_count": 25,
   "id": "8473e9c1",
   "metadata": {},
   "outputs": [
    {
     "name": "stdout",
     "output_type": "stream",
     "text": [
      "tensor([-0.9665, -0.2799], requires_grad=True)\n",
      "tensor([-66.8803, -53.4097])\n"
     ]
    }
   ],
   "source": [
    "# gradient dari bias\n",
    "print(b)\n",
    "print(b.grad)"
   ]
  },
  {
   "cell_type": "markdown",
   "id": "15992f57",
   "metadata": {},
   "source": [
    "kalau element gradient positif : naikkin nilai element akan sedikit naikkin loss\n",
    "kalau element gradient negatif : naikkin nilai element akan sedikit turunin loss"
   ]
  },
  {
   "cell_type": "markdown",
   "id": "a3121b15",
   "metadata": {},
   "source": [
    "Sebelum memperbaiki model, reset gradient terlebih dahulu.\n",
    "karena fungsi backward hanya bisa sekali dijalankan"
   ]
  },
  {
   "cell_type": "code",
   "execution_count": 30,
   "id": "6acad9a5",
   "metadata": {},
   "outputs": [
    {
     "name": "stdout",
     "output_type": "stream",
     "text": [
      "tensor([[0., 0., 0.],\n",
      "        [0., 0., 0.]])\n",
      "tensor([0., 0.])\n"
     ]
    }
   ],
   "source": [
    "w.grad.zero_()\n",
    "b.grad.zero_()\n",
    "print(w.grad)\n",
    "print(b.grad)"
   ]
  },
  {
   "cell_type": "markdown",
   "id": "c4793546",
   "metadata": {},
   "source": [
    "ingat, ini diawali dengan random number, jadi hasilnya memang acak. gabisa jadi panutan. Tapi asalkan modelnya diimprove dengan benar. Nantinya akan didapatkan model yang lebih baik"
   ]
  },
  {
   "cell_type": "markdown",
   "id": "be44e626",
   "metadata": {},
   "source": [
    "## Atur kembali weight dan bias pakai gradient turunan\n",
    "- keluarkan hasil prediksi\n",
    "- hitung loss\n",
    "- hitung gradient w.r.t, weight, dan bias\n",
    "- atur ulang weight dengan sedikit nilai\n",
    "- reset gradient ke 0"
   ]
  },
  {
   "cell_type": "code",
   "execution_count": 32,
   "id": "9e57b307",
   "metadata": {},
   "outputs": [
    {
     "name": "stdout",
     "output_type": "stream",
     "text": [
      "tensor([[  2.4356,  26.2235],\n",
      "        [ -3.5658,  50.5199],\n",
      "        [ 77.6606,  44.7256],\n",
      "        [-43.7448,  -4.1727],\n",
      "        [ 13.8132,  75.6552]], grad_fn=<AddBackward0>)\n"
     ]
    }
   ],
   "source": [
    "#keluarkan hasil prediksi\n",
    "preds = model(inputs)\n",
    "print(preds)"
   ]
  },
  {
   "cell_type": "code",
   "execution_count": 33,
   "id": "1f1193e0",
   "metadata": {},
   "outputs": [
    {
     "name": "stdout",
     "output_type": "stream",
     "text": [
      "tensor(3983.7097, grad_fn=<DivBackward0>)\n"
     ]
    }
   ],
   "source": [
    "# hitung loss\n",
    "loss = mse(preds,targets)\n",
    "print(loss)"
   ]
  },
  {
   "cell_type": "code",
   "execution_count": 34,
   "id": "5309e09c",
   "metadata": {},
   "outputs": [
    {
     "name": "stdout",
     "output_type": "stream",
     "text": [
      "tensor([[-5612.4170, -5591.8115, -3757.7612],\n",
      "        [-4531.9297, -5027.1133, -2958.1106]])\n",
      "tensor([-66.8803, -53.4097])\n"
     ]
    }
   ],
   "source": [
    "# hitung gradient wrt, weight, dan bias\n",
    "loss.backward()\n",
    "print(w.grad)\n",
    "print(b.grad)"
   ]
  },
  {
   "cell_type": "code",
   "execution_count": 36,
   "id": "088347f6",
   "metadata": {},
   "outputs": [],
   "source": [
    "# atur ulang weight dengan sedikit nilai\n",
    "with torch.no_grad() :\n",
    "    w -= w.grad * 1e-5\n",
    "    b -= b.grad * 1e-5\n",
    "    \n",
    "#     reset gradient ke 0\n",
    "    w.grad.zero_()\n",
    "    b.grad.zero_()"
   ]
  },
  {
   "cell_type": "markdown",
   "id": "b9ca7822",
   "metadata": {},
   "source": [
    "fungsi no_grad adalah untuk menyuruh pytorch untuk tidak mengubah gradient ketika sedang mengubah weight dan bias"
   ]
  },
  {
   "cell_type": "code",
   "execution_count": 39,
   "id": "25c5b674",
   "metadata": {},
   "outputs": [
    {
     "name": "stdout",
     "output_type": "stream",
     "text": [
      "tensor([[-0.5337,  1.5980, -1.2847],\n",
      "        [-0.6223,  0.0870,  1.7220]], requires_grad=True)\n",
      "tensor([-0.9659, -0.2794], requires_grad=True)\n"
     ]
    }
   ],
   "source": [
    "# intip weight dan bias yang baru\n",
    "print(w)\n",
    "print(b)"
   ]
  },
  {
   "cell_type": "code",
   "execution_count": 40,
   "id": "94e9a883",
   "metadata": {},
   "outputs": [
    {
     "name": "stdout",
     "output_type": "stream",
     "text": [
      "tensor(2786.7432, grad_fn=<DivBackward0>)\n"
     ]
    }
   ],
   "source": [
    "# cek loss baru\n",
    "preds = model(inputs)\n",
    "loss = mse(preds,targets)\n",
    "print(loss)"
   ]
  },
  {
   "cell_type": "markdown",
   "id": "21a5e910",
   "metadata": {},
   "source": [
    "nilai loss turun banyak, hanya dengan cara mengubah sedikit nilai weight dan bias"
   ]
  },
  {
   "cell_type": "markdown",
   "id": "9c89436b",
   "metadata": {},
   "source": [
    "## Melakukan training regressi linear dengan beberapa epoch (perulangan)\n",
    "untuk mengurangi nilai Loss lebih banyak, lakukan training berkali-kali\n",
    "jangan lupa cek loss tiap perulangannya juga"
   ]
  },
  {
   "cell_type": "code",
   "execution_count": 41,
   "id": "0302333e",
   "metadata": {},
   "outputs": [],
   "source": [
    "# train 100 epoch\n",
    "for i in range(100) :\n",
    "    preds = model(inputs)\n",
    "    loss = mse(preds, targets)\n",
    "    loss.backward()\n",
    "    with torch.no_grad():\n",
    "        w -= w.grad * 1e-5\n",
    "        b -= b.grad * 1e-5\n",
    "        w.grad.zero_()\n",
    "        b.grad.zero_()"
   ]
  },
  {
   "cell_type": "markdown",
   "id": "0174ecb1",
   "metadata": {},
   "source": [
    "cek kembali nilai loss setelah 100 kali dilakukan training"
   ]
  },
  {
   "cell_type": "code",
   "execution_count": 42,
   "id": "6e22a3e0",
   "metadata": {},
   "outputs": [
    {
     "name": "stdout",
     "output_type": "stream",
     "text": [
      "tensor(223.8214, grad_fn=<DivBackward0>)\n"
     ]
    }
   ],
   "source": [
    "# hitung nilai loss\n",
    "preds = model(inputs)\n",
    "loss = mse(preds, targets)\n",
    "print(loss)"
   ]
  },
  {
   "cell_type": "markdown",
   "id": "ee886401",
   "metadata": {},
   "source": [
    "bandingkan prediksi dengan aktual"
   ]
  },
  {
   "cell_type": "code",
   "execution_count": 43,
   "id": "6fb4d5bf",
   "metadata": {},
   "outputs": [
    {
     "data": {
      "text/plain": [
       "tensor([[ 56.6589,  70.1346],\n",
       "        [ 68.2300, 107.7869],\n",
       "        [151.2918, 117.0523],\n",
       "        [ 17.7002,  37.0006],\n",
       "        [ 79.3887, 131.4724]], grad_fn=<AddBackward0>)"
      ]
     },
     "execution_count": 43,
     "metadata": {},
     "output_type": "execute_result"
    }
   ],
   "source": [
    "preds"
   ]
  },
  {
   "cell_type": "code",
   "execution_count": 44,
   "id": "94c336c7",
   "metadata": {},
   "outputs": [
    {
     "data": {
      "text/plain": [
       "tensor([[ 56.,  70.],\n",
       "        [ 81., 101.],\n",
       "        [119., 133.],\n",
       "        [ 22.,  37.],\n",
       "        [103., 119.]])"
      ]
     },
     "execution_count": 44,
     "metadata": {},
     "output_type": "execute_result"
    }
   ],
   "source": [
    "targets"
   ]
  },
  {
   "cell_type": "markdown",
   "id": "dfe7eb57",
   "metadata": {},
   "source": [
    "hasilnya sudah cukup mendekati, hasil yang lebih baik bisa didapatkan apabila melakukan training beberapa epoch kembali"
   ]
  },
  {
   "cell_type": "code",
   "execution_count": 48,
   "id": "f357a964",
   "metadata": {},
   "outputs": [],
   "source": [
    "# train 50 epoch\n",
    "for i in range(50) :\n",
    "    preds = model(inputs)\n",
    "    loss = mse(preds, targets)\n",
    "    loss.backward()\n",
    "    with torch.no_grad():\n",
    "        w -= w.grad * 1e-5\n",
    "        b -= b.grad * 1e-5\n",
    "        w.grad.zero_()\n",
    "        b.grad.zero_()"
   ]
  },
  {
   "cell_type": "code",
   "execution_count": 49,
   "id": "fa676630",
   "metadata": {},
   "outputs": [
    {
     "name": "stdout",
     "output_type": "stream",
     "text": [
      "tensor(180.9225, grad_fn=<DivBackward0>)\n",
      "tensor([[ 57.3168,  69.9206],\n",
      "        [ 69.7924, 107.0732],\n",
      "        [146.6807, 119.0196],\n",
      "        [ 21.6355,  35.7001],\n",
      "        [ 79.8106, 130.9895]], grad_fn=<AddBackward0>)\n",
      "tensor([[ 56.,  70.],\n",
      "        [ 81., 101.],\n",
      "        [119., 133.],\n",
      "        [ 22.,  37.],\n",
      "        [103., 119.]])\n"
     ]
    }
   ],
   "source": [
    "preds = model(inputs)\n",
    "loss = mse(preds, targets)\n",
    "print(loss)\n",
    "print(preds)\n",
    "print(targets)"
   ]
  },
  {
   "cell_type": "markdown",
   "id": "16e9e2a5",
   "metadata": {},
   "source": [
    "bisa tambah epoch untuk hasil yang lebih bagus lagi"
   ]
  },
  {
   "cell_type": "code",
   "execution_count": null,
   "id": "c9a88561",
   "metadata": {},
   "outputs": [],
   "source": []
  }
 ],
 "metadata": {
  "kernelspec": {
   "display_name": "Python 3 (ipykernel)",
   "language": "python",
   "name": "python3"
  },
  "language_info": {
   "codemirror_mode": {
    "name": "ipython",
    "version": 3
   },
   "file_extension": ".py",
   "mimetype": "text/x-python",
   "name": "python",
   "nbconvert_exporter": "python",
   "pygments_lexer": "ipython3",
   "version": "3.9.7"
  }
 },
 "nbformat": 4,
 "nbformat_minor": 5
}
